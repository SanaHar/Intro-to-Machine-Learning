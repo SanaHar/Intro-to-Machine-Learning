{
  "cells": [
    {
      "cell_type": "markdown",
      "id": "77be69fd",
      "metadata": {
        "id": "77be69fd"
      },
      "source": [
        "# Machine Learning Computer Homework 3\n",
        "## Handwritten image classification\n",
        "## Part1: SVM (100)\n",
        "In machine learning, support vector machines (SVMs) are supervised learning models with associated learning algorithms that analyze data for classification and regression analysis, Developed at AT&T Bell Laboratories.\n",
        "\n",
        "In this part, you will implement an SVM to classify handwritten digits! \\\n",
        "The task is to predict number in a picture, which is between 0 and 9. then we use a Neural network to do the same job and compare their results. \\   \n",
        "\n",
        "You are only required to write code in the sections marked with `# TODO:` \n",
        "Feel free to contact me via telegram if you have any question: @mamin_rami, @Amin_pourghani"
      ]
    },
    {
      "cell_type": "code",
      "execution_count": 1,
      "id": "99d93b31",
      "metadata": {
        "id": "99d93b31"
      },
      "outputs": [],
      "source": [
        "# Import datasets, classifiers and performance metrics\n",
        "import matplotlib.pyplot as plt\n",
        "from sklearn import datasets, svm, metrics\n",
        "from sklearn.model_selection import train_test_split"
      ]
    },
    {
      "cell_type": "markdown",
      "id": "f862d272",
      "metadata": {
        "id": "f862d272"
      },
      "source": [
        "## Q1.Plotting random images (10)\n",
        "Plot few images from dataset to get intuition about dataset. \n",
        "Remember to plot the pictures' labels too"
      ]
    },
    {
      "cell_type": "code",
      "execution_count": 2,
      "id": "750f7b30",
      "metadata": {
        "colab": {
          "base_uri": "https://localhost:8080/",
          "height": 399
        },
        "id": "750f7b30",
        "outputId": "f05a7f2e-cd16-474b-ba38-fcbb65fe7490"
      },
      "outputs": [
        {
          "data": {
            "image/png": "[encoded data removed]",
            "text/plain": [
              "<Figure size 1080x2160 with 5 Axes>"
            ]
          },
          "metadata": {
            "needs_background": "light"
          },
          "output_type": "display_data"
        },
        {
          "data": {
            "image/png": "[encoded data removed]",
            "text/plain": [
              "<Figure size 1080x2160 with 5 Axes>"
            ]
          },
          "metadata": {
            "needs_background": "light"
          },
          "output_type": "display_data"
        }
      ],
      "source": [
        "#Loading digits dataset from sklearn preloaded datasets\n",
        "digits = datasets.load_digits()\n",
        "\n",
        "#TODO\n",
        "\n",
        "fig = plt.figure(figsize=(15,30)) \n",
        "for i in range(5):\n",
        "    ax = fig.add_subplot(1,5,i+1)\n",
        "    ax.imshow(digits.images[i])\n",
        "    ax.set_title('Training: '+str(i))\n",
        "\n",
        "fig = plt.figure(figsize=(15,30)) \n",
        "for i in range(5):\n",
        "    ax = fig.add_subplot(1,5,i+1)\n",
        "    ax.imshow(digits.images[i+5])\n",
        "    ax.set_title('Training: '+str(i+5))"
      ]
    },
    {
      "cell_type": "code",
      "execution_count": 3,
      "id": "5b4affd2",
      "metadata": {
        "colab": {
          "base_uri": "https://localhost:8080/"
        },
        "id": "5b4affd2",
        "outputId": "bb5224f1-d661-4643-eff9-295e76029404"
      },
      "outputs": [
        {
          "name": "stdout",
          "output_type": "stream",
          "text": [
            "(1797, 8, 8)\n",
            "(1797, 64)\n"
          ]
        }
      ],
      "source": [
        "# Flatten the images\n",
        "#TODO \n",
        "d1,_,_ = digits.images.shape\n",
        "print(digits.images.shape)\n",
        "images_flatten = digits.images.reshape((d1, -1))\n",
        "print(images_flatten.shape)"
      ]
    },
    {
      "cell_type": "markdown",
      "id": "17b73954",
      "metadata": {
        "id": "17b73954"
      },
      "source": [
        "## Q2.Splitting data (10)\n",
        "split data into 60% train and 40% test subsets."
      ]
    },
    {
      "cell_type": "code",
      "execution_count": 4,
      "id": "950c4e44",
      "metadata": {
        "colab": {
          "base_uri": "https://localhost:8080/"
        },
        "id": "950c4e44",
        "outputId": "b31c03bc-4113-4873-afed-f581fc2f342d"
      },
      "outputs": [
        {
          "name": "stdout",
          "output_type": "stream",
          "text": [
            "X_Train size:  (1078, 64)\n",
            "X_Test size:  (719, 64)\n",
            "y_Train size:  (1078,)\n",
            "y_Test size:  (719,)\n"
          ]
        }
      ],
      "source": [
        "#TODO\n",
        "X_train, X_test, y_train, y_test = train_test_split(images_flatten,digits.target, test_size=0.4, shuffle=False)\n",
        "\n",
        "print('X_Train size: ',str(X_train.shape))\n",
        "print('X_Test size: ',str(X_test.shape))\n",
        "print('y_Train size: ',str(y_train.shape))\n",
        "print('y_Test size: ',str(y_test.shape))\n"
      ]
    },
    {
      "cell_type": "markdown",
      "id": "f7899873",
      "metadata": {
        "id": "f7899873"
      },
      "source": [
        " ## Q3.Creating a classifier: a support vector classifier (60)\n",
        " You can adjust the hyperparameters of the model to get a better result. \\\n",
        " for this part, use linear kernel:"
      ]
    },
    {
      "cell_type": "code",
      "execution_count": 5,
      "id": "4b0aca4a",
      "metadata": {
        "id": "4b0aca4a"
      },
      "outputs": [],
      "source": [
        "#TODO\n",
        "clf = svm.SVC(kernel='linear',gamma=0.001)\n"
      ]
    },
    {
      "cell_type": "code",
      "execution_count": 6,
      "id": "91a11fc2",
      "metadata": {
        "colab": {
          "base_uri": "https://localhost:8080/"
        },
        "id": "91a11fc2",
        "outputId": "6576949a-7386-4145-b594-b0e5992b2e69"
      },
      "outputs": [
        {
          "data": {
            "text/plain": [
              "SVC(gamma=0.001, kernel='linear')"
            ]
          },
          "execution_count": 6,
          "metadata": {},
          "output_type": "execute_result"
        }
      ],
      "source": [
        "# Learn the digits on the train subset\n",
        "#TODO\n",
        "clf.fit(X_train,y_train)"
      ]
    },
    {
      "cell_type": "code",
      "execution_count": 7,
      "id": "96343538",
      "metadata": {
        "id": "96343538"
      },
      "outputs": [],
      "source": [
        "# Predict the value of the digit on the test subset\n",
        "#TODO\n",
        "predicted = clf.predict(X_test)"
      ]
    },
    {
      "cell_type": "code",
      "execution_count": 8,
      "id": "867c11a0",
      "metadata": {
        "colab": {
          "base_uri": "https://localhost:8080/",
          "height": 143
        },
        "id": "867c11a0",
        "outputId": "61d3236a-3fac-40c9-efdf-bd6377843b97"
      },
      "outputs": [
        {
          "data": {
            "image/png": "[encoded data removed]",
            "text/plain": [
              "<Figure size 720x2160 with 5 Axes>"
            ]
          },
          "metadata": {
            "needs_background": "light"
          },
          "output_type": "display_data"
        }
      ],
      "source": [
        "# Plot 5 samples of test set and their corresponding predicted label.\n",
        "#TODO\n",
        "_,axes = plt.subplots(nrows=1,ncols = 5, figsize=(10,30))\n",
        "for ax, image, prediction in zip(axes,X_test,predicted):\n",
        "    ax.set_axis_off()\n",
        "    image = image.reshape(8,8)\n",
        "    ax.imshow(image,cmap=plt.cm.gray_r, interpolation=\"nearest\")\n",
        "    ax.set_title(f\"prediction: {prediction}\")"
      ]
    },
    {
      "cell_type": "markdown",
      "id": "deae9026",
      "metadata": {
        "id": "deae9026"
      },
      "source": [
        "## Q4. Model metrics (20)\n",
        "To see the fitting quality, print thee metrics of the model:"
      ]
    },
    {
      "cell_type": "code",
      "execution_count": 9,
      "id": "e85dd935",
      "metadata": {
        "colab": {
          "base_uri": "https://localhost:8080/"
        },
        "id": "e85dd935",
        "outputId": "f5de14c5-e490-4e73-ffa0-67e6137284b9"
      },
      "outputs": [
        {
          "name": "stdout",
          "output_type": "stream",
          "text": [
            "Classification report for svm clasifier SVC(gamma=0.001, kernel='linear'):\n",
            "              precision    recall  f1-score   support\n",
            "\n",
            "           0       0.96      0.99      0.97        71\n",
            "           1       0.94      0.88      0.91        73\n",
            "           2       1.00      0.97      0.99        71\n",
            "           3       0.95      0.82      0.88        74\n",
            "           4       1.00      0.95      0.97        74\n",
            "           5       0.92      0.99      0.95        71\n",
            "           6       0.97      0.99      0.98        74\n",
            "           7       0.92      0.96      0.94        72\n",
            "           8       0.84      0.91      0.87        68\n",
            "           9       0.88      0.93      0.90        71\n",
            "\n",
            "    accuracy                           0.94       719\n",
            "   macro avg       0.94      0.94      0.94       719\n",
            "weighted avg       0.94      0.94      0.94       719\n",
            "\n",
            "\n"
          ]
        }
      ],
      "source": [
        "# Use metrics.classification_report() method to get an overview of model's performance\n",
        "# TODO\n",
        "print(f\"Classification report for svm clasifier {clf}:\\n\"\n",
        "     f\"{metrics.classification_report(y_test, predicted)}\\n\")"
      ]
    },
    {
      "cell_type": "code",
      "execution_count": 10,
      "id": "9f36b5a1",
      "metadata": {
        "colab": {
          "base_uri": "https://localhost:8080/",
          "height": 499
        },
        "id": "9f36b5a1",
        "outputId": "bed2783a-209a-48d5-e096-2a097792d42f"
      },
      "outputs": [
        {
          "name": "stdout",
          "output_type": "stream",
          "text": [
            "Confusion matrix:\n",
            "[[70  0  0  0  0  0  1  0  0  0]\n",
            " [ 0 64  0  0  0  0  0  0  3  6]\n",
            " [ 1  0 69  1  0  0  0  0  0  0]\n",
            " [ 0  0  0 61  0  3  0  3  7  0]\n",
            " [ 1  0  0  0 70  0  0  0  0  3]\n",
            " [ 0  0  0  0  0 70  1  0  0  0]\n",
            " [ 0  1  0  0  0  0 73  0  0  0]\n",
            " [ 0  1  0  0  0  0  0 69  2  0]\n",
            " [ 0  2  0  1  0  1  0  2 62  0]\n",
            " [ 1  0  0  1  0  2  0  1  0 66]]\n"
          ]
        },
        {
          "data": {
            "image/png": "[encoded data removed]",
            "text/plain": [
              "<Figure size 432x288 with 2 Axes>"
            ]
          },
          "metadata": {
            "needs_background": "light"
          },
          "output_type": "display_data"
        }
      ],
      "source": [
        "# Plot the confusion matrix of the model using metrics library\n",
        "#TODO\n",
        "disp = metrics.ConfusionMatrixDisplay.from_predictions(y_test,predicted)\n",
        "disp.figure_.suptitle(\"Confusion Matrix\")\n",
        "print(f\"Confusion matrix:\\n{disp.confusion_matrix}\")"
      ]
    },
    {
      "cell_type": "markdown",
      "id": "5663a844",
      "metadata": {
        "id": "5663a844"
      },
      "source": [
        "### Repeat the steps you took, but this time use gaussian kernel(rbf kernel)"
      ]
    },
    {
      "cell_type": "code",
      "execution_count": 11,
      "id": "06452504",
      "metadata": {
        "id": "06452504"
      },
      "outputs": [],
      "source": [
        "# TODO\n",
        "rbf = svm.SVC(kernel='rbf',gamma=0.001)\n",
        "rbf.fit(X_train,y_train)\n",
        "predicted = rbf.predict(X_test)"
      ]
    },
    {
      "cell_type": "code",
      "execution_count": 12,
      "id": "de909dc2",
      "metadata": {
        "colab": {
          "base_uri": "https://localhost:8080/",
          "height": 143
        },
        "id": "de909dc2",
        "outputId": "64473f96-a438-44a5-d91a-dfa8cf3b2e57"
      },
      "outputs": [
        {
          "data": {
            "image/png": "[encoded data removed]",
            "text/plain": [
              "<Figure size 720x2160 with 5 Axes>"
            ]
          },
          "metadata": {
            "needs_background": "light"
          },
          "output_type": "display_data"
        }
      ],
      "source": [
        "_,axes = plt.subplots(nrows=1,ncols = 5, figsize=(10,30))\n",
        "for ax, image, prediction in zip(axes,X_test,predicted):\n",
        "    ax.set_axis_off()\n",
        "    image = image.reshape(8,8)\n",
        "    ax.imshow(image,cmap=plt.cm.gray_r, interpolation=\"nearest\")\n",
        "    ax.set_title(f\"prediction: {prediction}\")"
      ]
    },
    {
      "cell_type": "code",
      "execution_count": 13,
      "id": "3a56cff4",
      "metadata": {
        "colab": {
          "base_uri": "https://localhost:8080/"
        },
        "id": "3a56cff4",
        "outputId": "146a30be-0050-4cb4-deb8-f7ec999a2099"
      },
      "outputs": [
        {
          "name": "stdout",
          "output_type": "stream",
          "text": [
            "Classification report for svm clasifier SVC(gamma=0.001):\n",
            "              precision    recall  f1-score   support\n",
            "\n",
            "           0       0.99      0.99      0.99        71\n",
            "           1       0.99      0.96      0.97        73\n",
            "           2       0.99      0.97      0.98        71\n",
            "           3       0.97      0.84      0.90        74\n",
            "           4       0.99      0.96      0.97        74\n",
            "           5       0.95      0.99      0.97        71\n",
            "           6       0.99      0.99      0.99        74\n",
            "           7       0.95      1.00      0.97        72\n",
            "           8       0.92      1.00      0.96        68\n",
            "           9       0.95      0.97      0.96        71\n",
            "\n",
            "    accuracy                           0.97       719\n",
            "   macro avg       0.97      0.97      0.96       719\n",
            "weighted avg       0.97      0.97      0.96       719\n",
            "\n",
            "\n"
          ]
        }
      ],
      "source": [
        "print(f\"Classification report for svm clasifier {rbf}:\\n\"\n",
        "     f\"{metrics.classification_report(y_test, predicted)}\\n\")"
      ]
    },
    {
      "cell_type": "code",
      "execution_count": 14,
      "id": "37def214",
      "metadata": {
        "colab": {
          "base_uri": "https://localhost:8080/",
          "height": 499
        },
        "id": "37def214",
        "outputId": "2c7e50df-0dc8-4a96-ecf6-2bb1289412ab"
      },
      "outputs": [
        {
          "name": "stdout",
          "output_type": "stream",
          "text": [
            "Confusion matrix:\n",
            "[[70  0  0  0  1  0  0  0  0  0]\n",
            " [ 0 70  1  0  0  0  0  0  1  1]\n",
            " [ 1  0 69  1  0  0  0  0  0  0]\n",
            " [ 0  0  0 62  0  3  0  4  5  0]\n",
            " [ 0  0  0  0 71  0  0  0  0  3]\n",
            " [ 0  0  0  0  0 70  1  0  0  0]\n",
            " [ 0  1  0  0  0  0 73  0  0  0]\n",
            " [ 0  0  0  0  0  0  0 72  0  0]\n",
            " [ 0  0  0  0  0  0  0  0 68  0]\n",
            " [ 0  0  0  1  0  1  0  0  0 69]]\n"
          ]
        },
        {
          "data": {
            "image/png": "[encoded data removed]",
            "text/plain": [
              "<Figure size 432x288 with 2 Axes>"
            ]
          },
          "metadata": {
            "needs_background": "light"
          },
          "output_type": "display_data"
        }
      ],
      "source": [
        "disp = metrics.ConfusionMatrixDisplay.from_predictions(y_test, predicted)\n",
        "disp.figure_.suptitle(\"Confusion Matrix\")\n",
        "print(f\"Confusion matrix:\\n{disp.confusion_matrix}\")\n",
        "\n",
        "plt.show()"
      ]
    }
  ],
  "metadata": {
    "colab": {
      "provenance": []
    },
    "kernelspec": {
      "display_name": "Python 3 (ipykernel)",
      "language": "python",
      "name": "python3"
    },
    "language_info": {
      "codemirror_mode": {
        "name": "ipython",
        "version": 3
      },
      "file_extension": ".py",
      "mimetype": "text/x-python",
      "name": "python",
      "nbconvert_exporter": "python",
      "pygments_lexer": "ipython3",
      "version": "3.9.7"
    }
  },
  "nbformat": 4,
  "nbformat_minor": 5
}
