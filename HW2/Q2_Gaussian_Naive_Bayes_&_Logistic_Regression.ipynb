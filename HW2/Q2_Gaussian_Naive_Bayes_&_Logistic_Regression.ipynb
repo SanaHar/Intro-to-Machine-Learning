{
 "cells": [
  {
   "cell_type": "markdown",
   "metadata": {},
   "source": [
    "# Machine Learning Computer Homework 2\n",
    "## 2: Classification Models\n",
    "In this question, you will get familiar with classification models such as Linear Regression and Naive Bayes and train them on the given data-sets.       \n",
    "sklearn is a powerful library for training machine learning models. In this homework we shall use this library to build/train machine learning models.   \n",
    "\n",
    "You are only required to write code in the sections marked with `# TODO:`   \n",
    "Feel free to contact me via telegram if you have any question: @mamin_rami"
   ]
  },
  {
   "cell_type": "code",
   "execution_count": 1,
   "metadata": {},
   "outputs": [],
   "source": [
    "# import the required libraries\n",
    "import numpy as np\n",
    "import pandas as pd\n",
    "from sklearn.linear_model import LogisticRegression\n",
    "from sklearn.naive_bayes import GaussianNB\n",
    "from sklearn.preprocessing import StandardScaler\n",
    "from sklearn.model_selection import train_test_split"
   ]
  },
  {
   "cell_type": "markdown",
   "metadata": {},
   "source": [
    "In this question you will work with a data-set containig data to detect fake banknotes. The data has four columns(features). Each feature is extracted by performing some image processing techniques on the banknotes. You will use machine learning models on the data-set to differentiate between real and fake banknotes.   \n",
    "In the following section, you must read the data using pandas library and do some preprocessing"
   ]
  },
  {
   "cell_type": "code",
   "execution_count": 25,
   "metadata": {},
   "outputs": [
    {
     "name": "stdout",
     "output_type": "stream",
     "text": [
      "      feature 1  feature 2  feature 3  feature 4  label\n",
      "0       -1.7104   -4.77800   6.210900    0.39740      1\n",
      "1        3.7635    2.78110   0.661190    0.34179      1\n",
      "2        5.3915    9.99460  -3.808100   -3.36420     -1\n",
      "3       -1.8343   -6.59070   5.642900    0.54998      1\n",
      "4        3.5358    6.70860  -0.818570    0.47886      1\n",
      "...         ...        ...        ...        ...    ...\n",
      "1371     3.8584    0.78425   1.103300    1.70080      1\n",
      "1372     4.6689    1.30980   0.055404    1.90900      1\n",
      "1373    -3.6053   -5.97400  10.091600   -0.82846     -1\n",
      "1374     2.0421    1.24360   4.217100    0.90429      1\n",
      "1375     1.9476   -4.77380   8.527000   -1.86680     -1\n",
      "\n",
      "[1376 rows x 5 columns]\n"
     ]
    }
   ],
   "source": [
    "# TODO: read the data_banknote_authentication.csv file using pandas\n",
    "data = pd.read_csv('data_banknote_authentication.csv')\n",
    "print(data)"
   ]
  },
  {
   "cell_type": "markdown",
   "metadata": {},
   "source": [
    "Most of the time, the data we work with is not clean. We need to preprocess it first."
   ]
  },
  {
   "cell_type": "code",
   "execution_count": 56,
   "metadata": {},
   "outputs": [
    {
     "name": "stdout",
     "output_type": "stream",
     "text": [
      "(1372, 5)\n"
     ]
    }
   ],
   "source": [
    "# TODO: delete all rows containing a NaN value \n",
    "# Hint: use dropna command from pandas library \n",
    "data = data.dropna(axis = 0, how = 'all')\n",
    "print(data.shape)\n",
    "# Extract X (the first four columns of data) and y (the last column of data) as numpy arrays\n",
    "\n",
    "X = data[['feature 1', 'feature 2','feature 3','feature 4']].to_numpy()\n",
    "Y =data['label'].to_numpy()\n",
    "\n",
    "# split data between train and test with 70% of data as train data and the rest as test data\n",
    "# Hint: use train_test_split command from sklearn library\n",
    "\n",
    "X_train, X_test, y_train, y_test = train_test_split(X, Y, test_size=0.3)\n"
   ]
  },
  {
   "cell_type": "markdown",
   "metadata": {},
   "source": [
    "As you know, a machine learning model may have parameters. The model learns these parameters by optimizing some objective function. Hence, some optimization algorithms are used to learn these parameters.       \n",
    "For these algorithms to perform well, it is better to normalize our features to have zero mean and unit variance.      \n",
    "In this section you will standardize the data to zero mean and unit variance.      \n",
    "Use `StandardScaler` class from `sklearn` library for this purpose.   "
   ]
  },
  {
   "cell_type": "code",
   "execution_count": 61,
   "metadata": {},
   "outputs": [],
   "source": [
    "# TODO: standardize both train and test data-set\n",
    "# Attention: you have to standardize based on training data-set( the .fit command should only be called upon trainig set)\n",
    "\n",
    "scaler = StandardScaler()\n",
    "X_train=scaler.fit_transform(X_train)\n",
    "X_test=scaler.transform(X_test)\n"
   ]
  },
  {
   "cell_type": "markdown",
   "metadata": {},
   "source": [
    "Here you must write a function to calculate accuracy, precision, recall and F1 score.    "
   ]
  },
  {
   "cell_type": "code",
   "execution_count": 62,
   "metadata": {},
   "outputs": [],
   "source": [
    "def performance_score(y_true, y_pred):\n",
    "    l = len(y_pred)\n",
    "    TP = 0\n",
    "    TN = 0\n",
    "    FP = 0\n",
    "    FN = 0\n",
    "    for i in range(l):\n",
    "        if y_pred[i]==y_true[i]:\n",
    "            if y_pred[i]==1:\n",
    "                TP+=1\n",
    "            else: \n",
    "                TN+=1\n",
    "        else:\n",
    "            if y_pred[i]==1:\n",
    "                FP+=1\n",
    "            else: \n",
    "                FN+=1\n",
    "                \n",
    "    precision = TP/(FP+TP)\n",
    "    recall = TP/(FN+TP)\n",
    "    accuracy = (TP+TN)/(TP+FN+TN+FP)\n",
    "    f1= 2*precision*recall/(precision+recall)\n",
    "                \n",
    "    return accuracy, precision, recall, f1"
   ]
  },
  {
   "cell_type": "markdown",
   "metadata": {},
   "source": [
    "In this section we will get into the training phase"
   ]
  },
  {
   "cell_type": "code",
   "execution_count": 70,
   "metadata": {},
   "outputs": [
    {
     "name": "stdout",
     "output_type": "stream",
     "text": [
      "Performance of Logistic Regression model on the test set: \n",
      "Accuracy = 0.987864 \n",
      "Precision = 0.975369 \n",
      "Recall = 1.000000 \n",
      "F1 = 0.987531 \n",
      "--------------------------------------------------------------------------\n",
      "Performance of Gaussian Naive Bayes model on the test set: \n",
      "Accuracy = 0.900485 \n",
      "Precision = 0.839827 \n",
      "Recall = 0.979798 \n",
      "F1 = 0.904429 \n"
     ]
    }
   ],
   "source": [
    "# TODO: train a Logistic Regression model on the trainig data using sklearn library\n",
    "# Warning: Remember to use the scaled data\n",
    "\n",
    "LR = LogisticRegression(random_state=16)\n",
    "LR.fit(X_train, y_train)\n",
    "y_pred = LR.predict(X_test)\n",
    "\n",
    "# TODO: report the performance of the model on the test set using the performance_score function\n",
    "# Warning: Remember to use the scaled data\n",
    "accuracy, precision, recall, f1 = performance_score(y_test, y_pred)\n",
    "print(\"Performance of Logistic Regression model on the test set: \")\n",
    "print(\"Accuracy = %f \" %accuracy )\n",
    "print(\"Precision = %f \" %precision)\n",
    "print(\"Recall = %f \" %recall)\n",
    "print(\"F1 = %f \" %f1)\n",
    "\n",
    "print(\"--------------------------------------------------------------------------\")\n",
    "# TODO: train a Gaussian Naive Bayes model on the trainig data using sklearn library\n",
    "# Warning: Remember to use the scaled data\n",
    "NB = GaussianNB()\n",
    "NB.fit(X_train, y_train)\n",
    "y_pred=NB.predict(X_test)\n",
    "\n",
    "# TODO: report the performance of the model on the test set using the performance_score function\n",
    "# Warning: Remember to use the scaled data\n",
    "accuracy, precision, recall, f1 = performance_score(y_test, y_pred)\n",
    "print(\"Performance of Gaussian Naive Bayes model on the test set: \")\n",
    "print(\"Accuracy = %f \" %accuracy )\n",
    "print(\"Precision = %f \" %precision)\n",
    "print(\"Recall = %f \" %recall)\n",
    "print(\"F1 = %f \" %f1)"
   ]
  }
 ],
 "metadata": {
  "kernelspec": {
   "display_name": "Python 3 (ipykernel)",
   "language": "python",
   "name": "python3"
  },
  "language_info": {
   "codemirror_mode": {
    "name": "ipython",
    "version": 3
   },
   "file_extension": ".py",
   "mimetype": "text/x-python",
   "name": "python",
   "nbconvert_exporter": "python",
   "pygments_lexer": "ipython3",
   "version": "3.9.7"
  }
 },
 "nbformat": 4,
 "nbformat_minor": 4
}
