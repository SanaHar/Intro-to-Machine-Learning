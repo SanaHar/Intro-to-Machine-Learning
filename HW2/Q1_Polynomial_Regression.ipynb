{
 "cells": [
  {
   "cell_type": "markdown",
   "metadata": {},
   "source": [
    "# Machine Learning Computer Homework 2\n",
    "## 1: Polynomial Regression\n",
    "In this question, the dataset contains only one feature that is a real number. We want to learn polynomial regression from degree n=1 to degree n=15 using the linear learning method and determine the best degree n for polynomial by comparing the results. \n",
    "\n",
    "You are only required to write code in the sections marked with `TODO:`      \n",
    "Feel free to contact me via telegram if you have any question: @PouyaSha, @zahrasodagar"
   ]
  },
  {
   "cell_type": "code",
   "execution_count": 3,
   "metadata": {},
   "outputs": [],
   "source": [
    "# import the required libraries\n",
    "import numpy as np\n",
    "import pandas as pd\n",
    "import matplotlib.pyplot as plt"
   ]
  },
  {
   "cell_type": "markdown",
   "metadata": {},
   "source": [
    "1. Three datasets S, V and T have been provided to you. which are in train_data.npy, validation_data.npy and test_data.npy files respectively. As you can see, we use S, V and T respectively for training, choosing the best polynomial degree and error estimation for the best polynomial."
   ]
  },
  {
   "cell_type": "code",
   "execution_count": 4,
   "metadata": {},
   "outputs": [],
   "source": [
    "# TODO: load the training, validation and test sets\n",
    "train_data = np.load('train_data.npy')\n",
    "validation_data = np.load('validation_data.npy')\n",
    "test_data = np.load('test_data.npy')\n"
   ]
  },
  {
   "cell_type": "markdown",
   "metadata": {},
   "source": [
    "2. Based on the training data S, for each degree of polynomial n=1 to n=15, learn a polynomial with degree n by linear regression method. Call the learned polynomial for n $h_n$. Plot the empirical error of the polynomials $h_n$ for the training data S, which we denote by $L_S(h_n)$ in terms of n."
   ]
  },
  {
   "cell_type": "code",
   "execution_count": 18,
   "metadata": {},
   "outputs": [
    {
     "data": {
      "text/plain": [
       "Text(0, 0.5, 'Empirical Error - LS')"
      ]
     },
     "execution_count": 18,
     "metadata": {},
     "output_type": "execute_result"
    },
    {
     "data": {
      "image/png": "[encoded data removed]",
      "text/plain": [
       "<Figure size 432x288 with 1 Axes>"
      ]
     },
     "metadata": {
      "needs_background": "light"
     },
     "output_type": "display_data"
    }
   ],
   "source": [
    "# TODO: learn the polynomial weights using numpy and plot the empirical errors\n",
    "n = np.arange(1,16,1)\n",
    "Ls = np.zeros((15,1))\n",
    "\n",
    "x = train_data[:,0]\n",
    "y = train_data[:,1]\n",
    "\n",
    "for i in range(15):\n",
    "    h = np.poly1d(np.polyfit(x, y, i+1))\n",
    "    yfit = np.polyval(h,x)\n",
    "    Ls[i] = np.mean((yfit-y)**2) \n",
    "\n",
    "plt.figure()\n",
    "plt.plot(n,Ls)\n",
    "plt.xlabel(\"n\")\n",
    "plt.ylabel(\"Empirical Error - LS\")\n"
   ]
  },
  {
   "cell_type": "markdown",
   "metadata": {},
   "source": [
    "3. In order to choose the best polynomial degree, we should not compare $L_S(h_n)$ for different (why?). We get an estimate of $L(h_n)$ based on the dataset V and call it $L_V(h_n)$ which is the average error for dataset V points.\n",
    "Calculate $L_V(h_n)$ for n=1,...,15 and plot it in terms of n, next to the $L_S(h_n)$ curve from the previous part."
   ]
  },
  {
   "cell_type": "markdown",
   "metadata": {},
   "source": [
    "(TODO: YOUR ANSWER)"
   ]
  },
  {
   "cell_type": "code",
   "execution_count": 73,
   "metadata": {},
   "outputs": [
    {
     "name": "stdout",
     "output_type": "stream",
     "text": [
      "the best polynomial degree is: 8 and its error is: [0.11129319]\n"
     ]
    },
    {
     "data": {
      "image/png": "[encoded data removed]",
      "text/plain": [
       "<Figure size 432x288 with 1 Axes>"
      ]
     },
     "metadata": {
      "needs_background": "light"
     },
     "output_type": "display_data"
    }
   ],
   "source": [
    "# TODO: plot the errors on both training set and validation set\n",
    "n = np.arange(1,16,1)\n",
    "Lv = np.zeros((15,1))\n",
    "\n",
    "x_val = validation_data[:,0]\n",
    "y_val = validation_data[:,1]\n",
    "\n",
    "for i in range(15):\n",
    "    h = np.poly1d(np.polyfit(x, y, i+1))\n",
    "    yfit = np.polyval(h,x_val)\n",
    "    Lv[i] = np.mean((yfit-y_val)**2) \n",
    "\n",
    "plt.figure()\n",
    "plt.plot(n,Lv, label=\"Validation data\")\n",
    "plt.plot(n,Ls, label=\"Train data\")\n",
    "plt.xlabel(\"n\")\n",
    "plt.ylabel(\"Empirical Error\")\n",
    "plt.legend(loc=\"upper right\")\n",
    "print(\"the best polynomial degree is: \"+str(np.argmin(Lv)+1)+\" and its error is: \"+str(Lv[np.argmin(Lv)]))"
   ]
  },
  {
   "cell_type": "markdown",
   "metadata": {},
   "source": [
    "4. Compare the behavior of $L_S(h_n)$ and $L_V(h_n)$ in terms of n and explain the difference between the two curves.\n",
    "$\\\\$\n",
    "answer: by increasing n, $L_S(h_n)$ decreases because the model become more complicated and by overfitting, estimates the data better. on the other hand, by increasing n, $L_V(h_n)$ first decreases but after a while, because of overfitting the model errors become large."
   ]
  },
  {
   "cell_type": "markdown",
   "metadata": {},
   "source": [
    "(TODO: YOUR ANSWER)"
   ]
  },
  {
   "cell_type": "markdown",
   "metadata": {},
   "source": [
    "5. Using the above results, conclude that the best regression of polynomials in this problem is of\n",
    "what degree? Which of the two curves $L_S(h_n)$ and $L_V(h_n)$ should be used for this conclusion?\n",
    "Why?\n",
    "$\\\\$\n",
    "answer: $L_V(h_n)$ should be used to find the best regression; as we see in privious part, by increasing n, $L_S(h_n)$  always decreases because of overfitting so it can't be a good criterion.\n",
    "based on $L_V(h_n)$ curve, n=8 is the best degree."
   ]
  },
  {
   "cell_type": "markdown",
   "metadata": {},
   "source": [
    "(TODO: YOUR ANSWER)"
   ]
  },
  {
   "cell_type": "markdown",
   "metadata": {},
   "source": [
    "6. Call the best polynomial obtained in clause d as $h^*$. We don’t know the true error value of this polynomial or $L(h^*)$ and again we have to settle for an estimate of it. Therefore, we consider the average error of $h^*$ on the dataset T or $L_T(h_n)$ as the estimate of $L(h^*)$. Calculate $L_T(h_n)$.\n",
    "\n",
    "    Can you intuitively explain why it is not good to use dataset V to estimate $L(h^*)$ and it is necessary to use a third dataset i.e. T?\n",
    "    $\\\\$\n",
    "    answer: the average of $L_T(h_n)$ is equal to 1.0889236523721288 but $L(h^*)$ is 0.11791425. "
   ]
  },
  {
   "cell_type": "markdown",
   "metadata": {},
   "source": [
    "(TODO: YOUR ANSWER)"
   ]
  },
  {
   "cell_type": "code",
   "execution_count": 75,
   "metadata": {},
   "outputs": [
    {
     "name": "stdout",
     "output_type": "stream",
     "text": [
      "The average of LT(n) is : 1.0889236523721288\n",
      "L(h*) is : [0.11791425]\n"
     ]
    },
    {
     "data": {
      "image/png": "[encoded data removed]",
      "text/plain": [
       "<Figure size 432x288 with 1 Axes>"
      ]
     },
     "metadata": {
      "needs_background": "light"
     },
     "output_type": "display_data"
    }
   ],
   "source": [
    "# TODO: report the error on testing dataset\n",
    "n = np.arange(1,16,1)\n",
    "LT = np.zeros((15,1))\n",
    "\n",
    "x_test = test_data[:,0]\n",
    "y_test = test_data[:,1]\n",
    "\n",
    "for i in range(15):\n",
    "    h = np.poly1d(np.polyfit(x, y, i+1))\n",
    "    yfit = np.polyval(h,x_test)\n",
    "    LT[i] = np.mean((yfit-y_test)**2) \n",
    "\n",
    "plt.figure()\n",
    "plt.plot(n,LT, label=\"Test data\")\n",
    "plt.xlabel(\"n\")\n",
    "plt.ylabel(\"Empirical Error - LT(n) \")\n",
    "plt.legend(loc=\"upper right\")\n",
    "\n",
    "print(\"The average of LT(n) is : \"+ str(np.mean(LT)))\n",
    "print(\"L(h*) is : \"+str(LT[7]))"
   ]
  },
  {
   "cell_type": "markdown",
   "metadata": {},
   "source": [
    "#### Bonus\n",
    "Complete the following functions and implement polynomial regression from scratch. Calculate the errors on all of the three sets and compare the results. What are the other methods that can be used to calculate the weights?"
   ]
  },
  {
   "cell_type": "code",
   "execution_count": 77,
   "metadata": {},
   "outputs": [
    {
     "name": "stdout",
     "output_type": "stream",
     "text": [
      "[0 1 2]\n"
     ]
    }
   ],
   "source": [
    "a = np.arange(3)\n",
    "print(a)"
   ]
  },
  {
   "cell_type": "code",
   "execution_count": 16,
   "metadata": {},
   "outputs": [],
   "source": [
    "def x_transform(X, degrees):\n",
    "    X_cp = X.copy()\n",
    "    for degree in degrees:\n",
    "        # TODO append columns of higher degrees to X\n",
    "        X = np.append(X, X_cp**degree, axis=1)\n",
    "    return X\n",
    "\n",
    "\n",
    "def loss(y, y_hat):\n",
    "    # TODO Calculate the L2 loss\n",
    "    loss = np.mean((y_hat - y)**2)\n",
    "    return loss\n",
    "\n",
    "\n",
    "def gradients(X, y, y_hat):\n",
    "    # TODO number of training examples\n",
    "    m = X.shape[0]\n",
    "    # TODO gradient of loss with respect to weights\n",
    "    dw = (1/m)*np.dot(X.T, (y_hat - y))\n",
    "    # TODO gradient of loss with respect to bias\n",
    "    db = (1/m)*np.sum((y_hat - y))\n",
    "    \n",
    "    return dw, db\n",
    "\n",
    "\n",
    "def train(X, y, bs, degrees, epochs, lr):\n",
    "    # TODO shape of the input data\n",
    "    # the below line is commented because x has only one feature and n should be assigned to 1\n",
    "    \n",
    "    m, n = X.shape \n",
    "    x = x_transform(X, degrees)\n",
    "    y = y.reshape(m,1)\n",
    "    \n",
    "    # Initializing weights and bias to zeros.\n",
    "    w = np.zeros((n,1))\n",
    "    b = 0\n",
    "\n",
    "    losses = []\n",
    "    \n",
    "    for epoch in range(epochs):\n",
    "        # TODO list of indices for each batch that is generated randomly\n",
    "        batches = np.arange((m-1)//bs + 1)\n",
    "        for batch in batches:\n",
    "            # TODO x batch\n",
    "            # TODO y batch\n",
    "            xb = x[batch*bs: batch*bs + bs].reshape((-1, 1))\n",
    "            yb = y[batch*bs: batch*bs + bs].reshape((-1, 1))\n",
    "            \n",
    "            w = np.zeros((xb.shape))\n",
    "            \n",
    "            # TODO calculate the hypothesis using w and b\n",
    "            y_hat = np.dot(xb, w) + b\n",
    "            \n",
    "            dw, db = gradients(xb, yb, y_hat)\n",
    "            \n",
    "            # TODO update w with respect to the learning rate\n",
    "            w -= lr*dw\n",
    "            # TODO update b with respect to the learning rate\n",
    "            b -= lr*db\n",
    "        \n",
    "        l = loss(y, np.dot(x, w) + b)\n",
    "        losses.append(l)\n",
    "        \n",
    "    # returning weights, bias and losses(List).\n",
    "    return w, b, losses\n",
    "\n",
    "\n",
    "def predict(X, w, b, degrees):\n",
    "    x1 = x_transform(X, degrees)\n",
    "    # TODO use w and b to get the predicted values\n",
    "    y = np.dot(x1, w) + b\n",
    "    return y"
   ]
  },
  {
   "cell_type": "markdown",
   "metadata": {},
   "source": [
    "(TODO: YOUR ANSWER)"
   ]
  },
  {
   "cell_type": "code",
   "execution_count": null,
   "metadata": {},
   "outputs": [],
   "source": [
    "# TODO fit the polynomials and evaluate the results using your own functions and \n",
    "# compare it to the previous section\n",
    "\n",
    "x = train_data[:,0]\n",
    "y = train_data[:,1]\n",
    "x = x.reshape(-1,1)\n",
    "\n",
    "w, b, l = train(x, y, bs=4, degrees=[2], epochs=100,\n",
    "                lr=0.01)\n",
    "# Plotting\n",
    "fig = plt.figure(figsize=(8,6))\n",
    "plt.plot(x, y, 'y.')\n",
    "plt.plot(x, predict(x, w, b, [2]), 'r.')\n",
    "plt.legend([\"Data\", \"Polynomial predictions\"])\n",
    "plt.xlabel('X - Input')\n",
    "plt.ylabel('y - target / true')\n",
    "plt.title('Polynomial Regression')\n",
    "plt.show()"
   ]
  }
 ],
 "metadata": {
  "kernelspec": {
   "display_name": "Python 3 (ipykernel)",
   "language": "python",
   "name": "python3"
  },
  "language_info": {
   "codemirror_mode": {
    "name": "ipython",
    "version": 3
   },
   "file_extension": ".py",
   "mimetype": "text/x-python",
   "name": "python",
   "nbconvert_exporter": "python",
   "pygments_lexer": "ipython3",
   "version": "3.9.7"
  }
 },
 "nbformat": 4,
 "nbformat_minor": 4
}
